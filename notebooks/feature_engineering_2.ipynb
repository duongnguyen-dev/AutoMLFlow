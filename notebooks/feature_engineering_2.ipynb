{
 "cells": [
  {
   "cell_type": "markdown",
   "metadata": {},
   "source": [
    "# Setting Spark"
   ]
  },
  {
   "cell_type": "code",
   "execution_count": 1,
   "metadata": {},
   "outputs": [],
   "source": [
    "import findspark\n",
    "import matplotlib.pyplot as plt\n",
    "import seaborn as sns\n",
    "import pyspark.sql.functions as F\n",
    "import pyspark.sql.types as T\n",
    "import pandas as pd\n",
    "\n",
    "from configs.config import DATA_SOURCE_DIR, PROJECT_DIR\n",
    "from pyspark.sql import SparkSession\n",
    "from pyspark.ml.feature import RobustScaler\n",
    "from train.transforms.utils import *\n",
    "from train.transforms.splitting import stratified_splitting\n",
    "from train.transforms.scaling import robust_scaling\n",
    "from train.transforms.outliers import log_transformation\n",
    "from train.transforms.categorical_data import * \n",
    "from train.transforms.categorical_data import *\n",
    "from train.transforms.correlation import *"
   ]
  },
  {
   "cell_type": "code",
   "execution_count": 2,
   "metadata": {},
   "outputs": [
    {
     "name": "stderr",
     "output_type": "stream",
     "text": [
      "Setting default log level to \"WARN\".\n",
      "To adjust logging level use sc.setLogLevel(newLevel). For SparkR, use setLogLevel(newLevel).\n",
      "24/12/31 14:49:24 WARN NativeCodeLoader: Unable to load native-hadoop library for your platform... using builtin-java classes where applicable\n"
     ]
    }
   ],
   "source": [
    "findspark.init()\n",
    "findspark.find()\n",
    "\n",
    "spark= SparkSession \\\n",
    "       .builder \\\n",
    "       .master(\"local\") \\\n",
    "       .appName(\"Feature Engineering\") \\\n",
    "       .config(\"spark.driver.bindAddress\", \"0.0.0.0\") \\\n",
    "       .config(\"spark.driver.host\", \"127.0.0.1\") \\\n",
    "       .config(\"spark.driver.port\", \"4041\") \\\n",
    "       .getOrCreate()"
   ]
  },
  {
   "cell_type": "code",
   "execution_count": 3,
   "metadata": {},
   "outputs": [],
   "source": [
    "df = spark.read.csv(str(DATA_SOURCE_DIR),header=True,escape=\"\\\"\")"
   ]
  },
  {
   "cell_type": "code",
   "execution_count": 4,
   "metadata": {},
   "outputs": [],
   "source": [
    "df = cast_incorrect_column_type(df)"
   ]
  },
  {
   "cell_type": "markdown",
   "metadata": {},
   "source": [
    "# Handle outliers\n",
    "- Performing log transformation on some feature columns to reduce skewness\n",
    "- Apply robust scaler to centralized data when the data still have outliers"
   ]
  },
  {
   "cell_type": "code",
   "execution_count": 5,
   "metadata": {},
   "outputs": [],
   "source": [
    "df = log_transformation(df, target_cols=[\"person_age\", \"person_income\", \"person_emp_exp\", \"loan_amnt\", \"loan_percent_income\", \"cb_person_cred_hist_length\"])"
   ]
  },
  {
   "cell_type": "code",
   "execution_count": 6,
   "metadata": {},
   "outputs": [],
   "source": [
    "df = robust_scaling(df, target_cols=[\"person_age\", \"person_income\", \"person_emp_exp\", \"loan_amnt\", \"loan_percent_income\", \"cb_person_cred_hist_length\"])"
   ]
  },
  {
   "cell_type": "markdown",
   "metadata": {},
   "source": [
    "# Transforming categorical data"
   ]
  },
  {
   "cell_type": "code",
   "execution_count": 7,
   "metadata": {},
   "outputs": [],
   "source": [
    "categorical_cols = find_categorical_cols(df)\n",
    "pipeline = onehot_encoding_pipeline(df, categorical_cols)\n",
    "df = pipeline.transform(df)"
   ]
  },
  {
   "cell_type": "code",
   "execution_count": 8,
   "metadata": {},
   "outputs": [],
   "source": [
    "columns_to_drop = categorical_cols + [col + \"_index\" for col in categorical_cols]\n",
    "df = df.drop(*columns_to_drop)"
   ]
  },
  {
   "cell_type": "code",
   "execution_count": 9,
   "metadata": {},
   "outputs": [
    {
     "name": "stderr",
     "output_type": "stream",
     "text": [
      "                                                                                \r"
     ]
    }
   ],
   "source": [
    "df_pandas = df.toPandas()"
   ]
  },
  {
   "cell_type": "code",
   "execution_count": 10,
   "metadata": {},
   "outputs": [],
   "source": [
    "for c in categorical_cols:\n",
    "    encoded_cols = df_pandas[c + \"_encoded\"].map(lambda x: list(x.toArray()))\n",
    "    expanded_df = pd.DataFrame(encoded_cols.tolist(), columns=[c + f\"_encoded_{i}\" for i in range(len(encoded_cols.iloc[0]))])\n",
    "    df_pandas = pd.concat([df_pandas, expanded_df], axis=1)\n",
    "    df_pandas = df_pandas.drop(c + \"_encoded\", axis=1)"
   ]
  },
  {
   "cell_type": "markdown",
   "metadata": {},
   "source": [
    "# Stratified Splitting"
   ]
  },
  {
   "cell_type": "code",
   "execution_count": 11,
   "metadata": {},
   "outputs": [],
   "source": [
    "train_df, test_df, val_df = stratified_splitting(\n",
    "    df_pandas, train_size=0.8, test_size=0.1, val_size=0.1, random_state=42\n",
    ")"
   ]
  },
  {
   "cell_type": "markdown",
   "metadata": {},
   "source": [
    "# Save as HDFS file"
   ]
  },
  {
   "cell_type": "code",
   "execution_count": null,
   "metadata": {},
   "outputs": [],
   "source": [
    "save_to_parquet(train_df, str(PROJECT_DIR / \"data\" / \"features\" / \"feature_engineering_2.h5\"), key=\"train\", mode=\"w\")\n",
    "save_to_parquet(test_df, str(PROJECT_DIR / \"data\" / \"features\" / \"feature_engineering_2.h5\"), key=\"test\")\n",
    "save_to_parquet(val_df, str(PROJECT_DIR / \"data\" / \"features\" / \"feature_engineering_2.h5\"), key=\"val\")"
   ]
  }
 ],
 "metadata": {
  "kernelspec": {
   "display_name": "mlac",
   "language": "python",
   "name": "python3"
  },
  "language_info": {
   "codemirror_mode": {
    "name": "ipython",
    "version": 3
   },
   "file_extension": ".py",
   "mimetype": "text/x-python",
   "name": "python",
   "nbconvert_exporter": "python",
   "pygments_lexer": "ipython3",
   "version": "3.12.0"
  }
 },
 "nbformat": 4,
 "nbformat_minor": 2
}
